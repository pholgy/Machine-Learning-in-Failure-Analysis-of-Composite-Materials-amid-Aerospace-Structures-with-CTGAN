{
 "cells": [
  {
   "cell_type": "code",
   "execution_count": 1,
   "metadata": {},
   "outputs": [],
   "source": [
    "import pandas as pd\n",
    "from sklearn.model_selection import train_test_split\n",
    "from tensorflow.keras.preprocessing.text import Tokenizer\n",
    "from tensorflow.keras.preprocessing.sequence import pad_sequences\n",
    "from keras import callbacks\n",
    "from keras.models import Sequential\n",
    "from keras.layers import Embedding,LSTM,Dense,Dropout\n",
    "import matplotlib.pyplot as plt\n",
    "from sklearn import metrics\n",
    "from keras.callbacks import EarlyStopping\n",
    "from sklearn.metrics import classification_report\n",
    "import numpy as np\n",
    "\n",
    "import keras\n",
    "from keras import *\n",
    "from keras.layers import *\n",
    "from pythainlp import word_tokenize\n",
    "from pythainlp.word_vector import *\n",
    "\n",
    "from sklearn.metrics import f1_score\n",
    "from sklearn.preprocessing import LabelEncoder"
   ]
  },
  {
   "cell_type": "code",
   "execution_count": 2,
   "metadata": {},
   "outputs": [],
   "source": [
    "df = pd.read_csv('Suicidal_K5_Train.csv').drop(columns='Unnamed: 0')"
   ]
  },
  {
   "cell_type": "code",
   "execution_count": 3,
   "metadata": {},
   "outputs": [
    {
     "data": {
      "text/html": [
       "<div>\n",
       "<style scoped>\n",
       "    .dataframe tbody tr th:only-of-type {\n",
       "        vertical-align: middle;\n",
       "    }\n",
       "\n",
       "    .dataframe tbody tr th {\n",
       "        vertical-align: top;\n",
       "    }\n",
       "\n",
       "    .dataframe thead th {\n",
       "        text-align: right;\n",
       "    }\n",
       "</style>\n",
       "<table border=\"1\" class=\"dataframe\">\n",
       "  <thead>\n",
       "    <tr style=\"text-align: right;\">\n",
       "      <th></th>\n",
       "      <th>DateTime</th>\n",
       "      <th>Uid</th>\n",
       "      <th>Tweet</th>\n",
       "      <th>Label (Specialist)</th>\n",
       "      <th>HashTag</th>\n",
       "    </tr>\n",
       "  </thead>\n",
       "  <tbody>\n",
       "    <tr>\n",
       "      <th>0</th>\n",
       "      <td>2021-05-18 7:24:39</td>\n",
       "      <td>a38755f80aee</td>\n",
       "      <td>ถ้าฉันตายไปจริงๆก็คงดีสินะ</td>\n",
       "      <td>Level 2</td>\n",
       "      <td>#โรคซึมเศร้า</td>\n",
       "    </tr>\n",
       "    <tr>\n",
       "      <th>1</th>\n",
       "      <td>2021-05-20 16:06:12</td>\n",
       "      <td>a38755f80aee</td>\n",
       "      <td>เหนื่อยเหนื่อยจนจะตายอยู่แล้วมันไมกันนะนั่งเล่...</td>\n",
       "      <td>Level 1</td>\n",
       "      <td>#โรคซึมเศร้า</td>\n",
       "    </tr>\n",
       "    <tr>\n",
       "      <th>2</th>\n",
       "      <td>2021-06-16 7:00:59</td>\n",
       "      <td>9b7d113b270a</td>\n",
       "      <td>พยายามที่จะมีชีวิตอยู่แต่ก็เหนื่อยกับโลกนี้เหล...</td>\n",
       "      <td>Level 1</td>\n",
       "      <td>#โรคซึมเศร้า</td>\n",
       "    </tr>\n",
       "    <tr>\n",
       "      <th>3</th>\n",
       "      <td>2021-05-28 18:43:41</td>\n",
       "      <td>0b981040c16d</td>\n",
       "      <td>ชีวิตก็มีอยู่แค่นี้อยากหายไปแล้วนะ</td>\n",
       "      <td>Level 1</td>\n",
       "      <td>#โรคซึมเศร้า</td>\n",
       "    </tr>\n",
       "    <tr>\n",
       "      <th>4</th>\n",
       "      <td>2021-07-13 18:06:11</td>\n",
       "      <td>937c5794646d</td>\n",
       "      <td>วันวุ่นๆของวัยรุ่นกินยาเกินขนาดกรีดแขนพร้อม</td>\n",
       "      <td>Level 5</td>\n",
       "      <td>#โรคซึมเศร้า</td>\n",
       "    </tr>\n",
       "    <tr>\n",
       "      <th>...</th>\n",
       "      <td>...</td>\n",
       "      <td>...</td>\n",
       "      <td>...</td>\n",
       "      <td>...</td>\n",
       "      <td>...</td>\n",
       "    </tr>\n",
       "    <tr>\n",
       "      <th>4616</th>\n",
       "      <td>2021-05-14 18:30:04</td>\n",
       "      <td>effe3c2573da</td>\n",
       "      <td>อยู่มาได้ขนาดนี้ถือว่าเก่งแล้ว</td>\n",
       "      <td>Other</td>\n",
       "      <td>#โรคซึมเศร้า</td>\n",
       "    </tr>\n",
       "    <tr>\n",
       "      <th>4617</th>\n",
       "      <td>2021-05-14 18:30:04</td>\n",
       "      <td>effe3c2573da</td>\n",
       "      <td>อยู่มาได้ขนาดนี้ถือว่าเก่งแล้ว</td>\n",
       "      <td>Other</td>\n",
       "      <td>#โรคซึมเศร้า</td>\n",
       "    </tr>\n",
       "    <tr>\n",
       "      <th>4618</th>\n",
       "      <td>2021-09-28 12:23:17</td>\n",
       "      <td>f9325bb44007</td>\n",
       "      <td>จะพยายามไม่ทำร้ายตัวเองในวันที่ดิ่ง</td>\n",
       "      <td>Other</td>\n",
       "      <td>#โรคซึมเศร้า</td>\n",
       "    </tr>\n",
       "    <tr>\n",
       "      <th>4619</th>\n",
       "      <td>2021-09-25 1:28:50</td>\n",
       "      <td>fb395b09645c</td>\n",
       "      <td>แล้วเจอกันนะ</td>\n",
       "      <td>Other</td>\n",
       "      <td>#ครอบครัวไม่ใช่เซฟโซน #เหนื่อยกับชีวิต #อยากตา...</td>\n",
       "    </tr>\n",
       "    <tr>\n",
       "      <th>4620</th>\n",
       "      <td>2021-07-25 16:09:04</td>\n",
       "      <td>fbf3d0565edb</td>\n",
       "      <td>สุดท้ายมึงก็ทำกูกลัว</td>\n",
       "      <td>Other</td>\n",
       "      <td>#โรคซึมเศร้า #โลกสีเทา #อยากตาย</td>\n",
       "    </tr>\n",
       "  </tbody>\n",
       "</table>\n",
       "<p>4621 rows × 5 columns</p>\n",
       "</div>"
      ],
      "text/plain": [
       "                 DateTime           Uid  \\\n",
       "0      2021-05-18 7:24:39  a38755f80aee   \n",
       "1     2021-05-20 16:06:12  a38755f80aee   \n",
       "2      2021-06-16 7:00:59  9b7d113b270a   \n",
       "3     2021-05-28 18:43:41  0b981040c16d   \n",
       "4     2021-07-13 18:06:11  937c5794646d   \n",
       "...                   ...           ...   \n",
       "4616  2021-05-14 18:30:04  effe3c2573da   \n",
       "4617  2021-05-14 18:30:04  effe3c2573da   \n",
       "4618  2021-09-28 12:23:17  f9325bb44007   \n",
       "4619   2021-09-25 1:28:50  fb395b09645c   \n",
       "4620  2021-07-25 16:09:04  fbf3d0565edb   \n",
       "\n",
       "                                                  Tweet Label (Specialist)  \\\n",
       "0                            ถ้าฉันตายไปจริงๆก็คงดีสินะ            Level 2   \n",
       "1     เหนื่อยเหนื่อยจนจะตายอยู่แล้วมันไมกันนะนั่งเล่...            Level 1   \n",
       "2     พยายามที่จะมีชีวิตอยู่แต่ก็เหนื่อยกับโลกนี้เหล...            Level 1   \n",
       "3                    ชีวิตก็มีอยู่แค่นี้อยากหายไปแล้วนะ            Level 1   \n",
       "4           วันวุ่นๆของวัยรุ่นกินยาเกินขนาดกรีดแขนพร้อม            Level 5   \n",
       "...                                                 ...                ...   \n",
       "4616                     อยู่มาได้ขนาดนี้ถือว่าเก่งแล้ว              Other   \n",
       "4617                     อยู่มาได้ขนาดนี้ถือว่าเก่งแล้ว              Other   \n",
       "4618                จะพยายามไม่ทำร้ายตัวเองในวันที่ดิ่ง              Other   \n",
       "4619                                       แล้วเจอกันนะ              Other   \n",
       "4620                               สุดท้ายมึงก็ทำกูกลัว              Other   \n",
       "\n",
       "                                                HashTag  \n",
       "0                                          #โรคซึมเศร้า  \n",
       "1                                          #โรคซึมเศร้า  \n",
       "2                                          #โรคซึมเศร้า  \n",
       "3                                          #โรคซึมเศร้า  \n",
       "4                                          #โรคซึมเศร้า  \n",
       "...                                                 ...  \n",
       "4616                                       #โรคซึมเศร้า  \n",
       "4617                                       #โรคซึมเศร้า  \n",
       "4618                                       #โรคซึมเศร้า  \n",
       "4619  #ครอบครัวไม่ใช่เซฟโซน #เหนื่อยกับชีวิต #อยากตา...  \n",
       "4620                    #โรคซึมเศร้า #โลกสีเทา #อยากตาย  \n",
       "\n",
       "[4621 rows x 5 columns]"
      ]
     },
     "execution_count": 3,
     "metadata": {},
     "output_type": "execute_result"
    }
   ],
   "source": [
    "df"
   ]
  },
  {
   "cell_type": "code",
   "execution_count": 4,
   "metadata": {},
   "outputs": [],
   "source": [
    "wModel = get_model()\n",
    "thai2dict = {}\n",
    "for word in wModel.index_to_key:\n",
    "    thai2dict[word] = wModel[word]\n",
    "thai2vec = pd.DataFrame.from_dict(thai2dict,orient='index')\n",
    "thVocab = thai2vec.index.to_list()"
   ]
  },
  {
   "cell_type": "code",
   "execution_count": 5,
   "metadata": {},
   "outputs": [
    {
     "data": {
      "text/html": [
       "<div>\n",
       "<style scoped>\n",
       "    .dataframe tbody tr th:only-of-type {\n",
       "        vertical-align: middle;\n",
       "    }\n",
       "\n",
       "    .dataframe tbody tr th {\n",
       "        vertical-align: top;\n",
       "    }\n",
       "\n",
       "    .dataframe thead th {\n",
       "        text-align: right;\n",
       "    }\n",
       "</style>\n",
       "<table border=\"1\" class=\"dataframe\">\n",
       "  <thead>\n",
       "    <tr style=\"text-align: right;\">\n",
       "      <th></th>\n",
       "      <th>0</th>\n",
       "      <th>1</th>\n",
       "      <th>2</th>\n",
       "      <th>3</th>\n",
       "      <th>4</th>\n",
       "      <th>5</th>\n",
       "      <th>6</th>\n",
       "      <th>7</th>\n",
       "      <th>8</th>\n",
       "      <th>9</th>\n",
       "      <th>...</th>\n",
       "      <th>290</th>\n",
       "      <th>291</th>\n",
       "      <th>292</th>\n",
       "      <th>293</th>\n",
       "      <th>294</th>\n",
       "      <th>295</th>\n",
       "      <th>296</th>\n",
       "      <th>297</th>\n",
       "      <th>298</th>\n",
       "      <th>299</th>\n",
       "    </tr>\n",
       "  </thead>\n",
       "  <tbody>\n",
       "    <tr>\n",
       "      <th>ที่</th>\n",
       "      <td>0.308956</td>\n",
       "      <td>-0.097699</td>\n",
       "      <td>0.116745</td>\n",
       "      <td>0.215612</td>\n",
       "      <td>0.015768</td>\n",
       "      <td>-0.064163</td>\n",
       "      <td>0.062168</td>\n",
       "      <td>0.039649</td>\n",
       "      <td>0.864940</td>\n",
       "      <td>0.846904</td>\n",
       "      <td>...</td>\n",
       "      <td>-0.142418</td>\n",
       "      <td>0.033241</td>\n",
       "      <td>0.171581</td>\n",
       "      <td>-0.624864</td>\n",
       "      <td>-0.009358</td>\n",
       "      <td>0.449131</td>\n",
       "      <td>0.120130</td>\n",
       "      <td>-0.122195</td>\n",
       "      <td>-0.450617</td>\n",
       "      <td>-0.071318</td>\n",
       "    </tr>\n",
       "    <tr>\n",
       "      <th>และ</th>\n",
       "      <td>0.010751</td>\n",
       "      <td>-0.618971</td>\n",
       "      <td>0.129665</td>\n",
       "      <td>0.035460</td>\n",
       "      <td>-0.007560</td>\n",
       "      <td>0.027607</td>\n",
       "      <td>0.397824</td>\n",
       "      <td>0.026543</td>\n",
       "      <td>0.254075</td>\n",
       "      <td>0.168328</td>\n",
       "      <td>...</td>\n",
       "      <td>-0.105786</td>\n",
       "      <td>0.180930</td>\n",
       "      <td>-0.101630</td>\n",
       "      <td>0.070885</td>\n",
       "      <td>-0.037263</td>\n",
       "      <td>0.183606</td>\n",
       "      <td>-0.049088</td>\n",
       "      <td>-0.672288</td>\n",
       "      <td>-1.293044</td>\n",
       "      <td>0.592576</td>\n",
       "    </tr>\n",
       "    <tr>\n",
       "      <th>เป็น</th>\n",
       "      <td>-0.015736</td>\n",
       "      <td>-0.258926</td>\n",
       "      <td>0.052953</td>\n",
       "      <td>0.153728</td>\n",
       "      <td>-0.005985</td>\n",
       "      <td>-0.021081</td>\n",
       "      <td>0.041088</td>\n",
       "      <td>0.057312</td>\n",
       "      <td>1.633230</td>\n",
       "      <td>0.442729</td>\n",
       "      <td>...</td>\n",
       "      <td>-0.009408</td>\n",
       "      <td>-0.252576</td>\n",
       "      <td>-0.305512</td>\n",
       "      <td>0.372542</td>\n",
       "      <td>0.049151</td>\n",
       "      <td>0.568470</td>\n",
       "      <td>0.266586</td>\n",
       "      <td>0.400800</td>\n",
       "      <td>-0.784650</td>\n",
       "      <td>0.197369</td>\n",
       "    </tr>\n",
       "    <tr>\n",
       "      <th>ของ</th>\n",
       "      <td>-0.189711</td>\n",
       "      <td>-0.174774</td>\n",
       "      <td>0.171124</td>\n",
       "      <td>-0.186771</td>\n",
       "      <td>0.054294</td>\n",
       "      <td>-0.114150</td>\n",
       "      <td>-1.109456</td>\n",
       "      <td>-0.094466</td>\n",
       "      <td>-0.447015</td>\n",
       "      <td>0.042377</td>\n",
       "      <td>...</td>\n",
       "      <td>-0.168676</td>\n",
       "      <td>-0.148738</td>\n",
       "      <td>0.680404</td>\n",
       "      <td>0.097702</td>\n",
       "      <td>0.020270</td>\n",
       "      <td>0.182967</td>\n",
       "      <td>-0.083949</td>\n",
       "      <td>0.006287</td>\n",
       "      <td>-0.707434</td>\n",
       "      <td>-0.070234</td>\n",
       "    </tr>\n",
       "    <tr>\n",
       "      <th>มี</th>\n",
       "      <td>-0.156962</td>\n",
       "      <td>-0.231863</td>\n",
       "      <td>0.080312</td>\n",
       "      <td>0.323157</td>\n",
       "      <td>0.215695</td>\n",
       "      <td>0.055145</td>\n",
       "      <td>0.420794</td>\n",
       "      <td>0.016842</td>\n",
       "      <td>0.256759</td>\n",
       "      <td>0.832864</td>\n",
       "      <td>...</td>\n",
       "      <td>-0.044267</td>\n",
       "      <td>-0.147186</td>\n",
       "      <td>-0.105424</td>\n",
       "      <td>0.907078</td>\n",
       "      <td>0.009299</td>\n",
       "      <td>0.550953</td>\n",
       "      <td>0.139337</td>\n",
       "      <td>0.031696</td>\n",
       "      <td>-0.670379</td>\n",
       "      <td>-0.008048</td>\n",
       "    </tr>\n",
       "    <tr>\n",
       "      <th>ได้</th>\n",
       "      <td>-0.428813</td>\n",
       "      <td>-0.031194</td>\n",
       "      <td>0.041922</td>\n",
       "      <td>-0.036608</td>\n",
       "      <td>-0.008106</td>\n",
       "      <td>0.076470</td>\n",
       "      <td>-0.782270</td>\n",
       "      <td>0.033361</td>\n",
       "      <td>0.606864</td>\n",
       "      <td>0.440520</td>\n",
       "      <td>...</td>\n",
       "      <td>0.024458</td>\n",
       "      <td>-0.025031</td>\n",
       "      <td>0.103389</td>\n",
       "      <td>-0.078255</td>\n",
       "      <td>0.034323</td>\n",
       "      <td>0.459774</td>\n",
       "      <td>-0.748643</td>\n",
       "      <td>0.337775</td>\n",
       "      <td>-0.487408</td>\n",
       "      <td>-0.511535</td>\n",
       "    </tr>\n",
       "    <tr>\n",
       "      <th>\"\"\"\"</th>\n",
       "      <td>-0.287710</td>\n",
       "      <td>0.064193</td>\n",
       "      <td>0.205076</td>\n",
       "      <td>0.146356</td>\n",
       "      <td>-0.071343</td>\n",
       "      <td>-0.039451</td>\n",
       "      <td>-1.845461</td>\n",
       "      <td>0.163763</td>\n",
       "      <td>1.018096</td>\n",
       "      <td>0.272786</td>\n",
       "      <td>...</td>\n",
       "      <td>0.051024</td>\n",
       "      <td>-0.532856</td>\n",
       "      <td>-0.131856</td>\n",
       "      <td>-0.090323</td>\n",
       "      <td>-0.058895</td>\n",
       "      <td>0.151262</td>\n",
       "      <td>-0.420358</td>\n",
       "      <td>0.055971</td>\n",
       "      <td>-0.930814</td>\n",
       "      <td>0.163908</td>\n",
       "    </tr>\n",
       "    <tr>\n",
       "      <th>การ</th>\n",
       "      <td>0.239587</td>\n",
       "      <td>-0.303620</td>\n",
       "      <td>0.079953</td>\n",
       "      <td>-0.453045</td>\n",
       "      <td>-0.528826</td>\n",
       "      <td>-0.161692</td>\n",
       "      <td>0.235725</td>\n",
       "      <td>-0.099673</td>\n",
       "      <td>0.691668</td>\n",
       "      <td>0.536159</td>\n",
       "      <td>...</td>\n",
       "      <td>-0.110436</td>\n",
       "      <td>-0.297495</td>\n",
       "      <td>-0.217414</td>\n",
       "      <td>0.045158</td>\n",
       "      <td>0.066647</td>\n",
       "      <td>0.190095</td>\n",
       "      <td>-0.304333</td>\n",
       "      <td>-0.724927</td>\n",
       "      <td>-0.995488</td>\n",
       "      <td>-0.716609</td>\n",
       "    </tr>\n",
       "    <tr>\n",
       "      <th>(</th>\n",
       "      <td>-0.120522</td>\n",
       "      <td>-0.355783</td>\n",
       "      <td>0.168180</td>\n",
       "      <td>-0.377733</td>\n",
       "      <td>-0.158624</td>\n",
       "      <td>-0.047249</td>\n",
       "      <td>0.361140</td>\n",
       "      <td>0.161460</td>\n",
       "      <td>0.913314</td>\n",
       "      <td>0.345037</td>\n",
       "      <td>...</td>\n",
       "      <td>0.116285</td>\n",
       "      <td>-0.318218</td>\n",
       "      <td>-0.356664</td>\n",
       "      <td>0.519889</td>\n",
       "      <td>0.130475</td>\n",
       "      <td>0.125772</td>\n",
       "      <td>0.101328</td>\n",
       "      <td>-0.382658</td>\n",
       "      <td>-1.205359</td>\n",
       "      <td>0.340139</td>\n",
       "    </tr>\n",
       "    <tr>\n",
       "      <th>)</th>\n",
       "      <td>-0.086848</td>\n",
       "      <td>-0.155231</td>\n",
       "      <td>0.133015</td>\n",
       "      <td>-0.039913</td>\n",
       "      <td>0.183761</td>\n",
       "      <td>0.115142</td>\n",
       "      <td>-1.940854</td>\n",
       "      <td>-0.066565</td>\n",
       "      <td>-2.399744</td>\n",
       "      <td>0.146722</td>\n",
       "      <td>...</td>\n",
       "      <td>0.019406</td>\n",
       "      <td>-0.181474</td>\n",
       "      <td>0.099863</td>\n",
       "      <td>0.516092</td>\n",
       "      <td>0.201697</td>\n",
       "      <td>0.249139</td>\n",
       "      <td>0.252957</td>\n",
       "      <td>1.138815</td>\n",
       "      <td>-0.018209</td>\n",
       "      <td>0.232265</td>\n",
       "    </tr>\n",
       "  </tbody>\n",
       "</table>\n",
       "<p>10 rows × 300 columns</p>\n",
       "</div>"
      ],
      "text/plain": [
       "           0         1         2         3         4         5         6    \\\n",
       "ที่   0.308956 -0.097699  0.116745  0.215612  0.015768 -0.064163  0.062168   \n",
       "และ   0.010751 -0.618971  0.129665  0.035460 -0.007560  0.027607  0.397824   \n",
       "เป็น -0.015736 -0.258926  0.052953  0.153728 -0.005985 -0.021081  0.041088   \n",
       "ของ  -0.189711 -0.174774  0.171124 -0.186771  0.054294 -0.114150 -1.109456   \n",
       "มี   -0.156962 -0.231863  0.080312  0.323157  0.215695  0.055145  0.420794   \n",
       "ได้  -0.428813 -0.031194  0.041922 -0.036608 -0.008106  0.076470 -0.782270   \n",
       "\"\"\"\" -0.287710  0.064193  0.205076  0.146356 -0.071343 -0.039451 -1.845461   \n",
       "การ   0.239587 -0.303620  0.079953 -0.453045 -0.528826 -0.161692  0.235725   \n",
       "(    -0.120522 -0.355783  0.168180 -0.377733 -0.158624 -0.047249  0.361140   \n",
       ")    -0.086848 -0.155231  0.133015 -0.039913  0.183761  0.115142 -1.940854   \n",
       "\n",
       "           7         8         9    ...       290       291       292  \\\n",
       "ที่   0.039649  0.864940  0.846904  ... -0.142418  0.033241  0.171581   \n",
       "และ   0.026543  0.254075  0.168328  ... -0.105786  0.180930 -0.101630   \n",
       "เป็น  0.057312  1.633230  0.442729  ... -0.009408 -0.252576 -0.305512   \n",
       "ของ  -0.094466 -0.447015  0.042377  ... -0.168676 -0.148738  0.680404   \n",
       "มี    0.016842  0.256759  0.832864  ... -0.044267 -0.147186 -0.105424   \n",
       "ได้   0.033361  0.606864  0.440520  ...  0.024458 -0.025031  0.103389   \n",
       "\"\"\"\"  0.163763  1.018096  0.272786  ...  0.051024 -0.532856 -0.131856   \n",
       "การ  -0.099673  0.691668  0.536159  ... -0.110436 -0.297495 -0.217414   \n",
       "(     0.161460  0.913314  0.345037  ...  0.116285 -0.318218 -0.356664   \n",
       ")    -0.066565 -2.399744  0.146722  ...  0.019406 -0.181474  0.099863   \n",
       "\n",
       "           293       294       295       296       297       298       299  \n",
       "ที่  -0.624864 -0.009358  0.449131  0.120130 -0.122195 -0.450617 -0.071318  \n",
       "และ   0.070885 -0.037263  0.183606 -0.049088 -0.672288 -1.293044  0.592576  \n",
       "เป็น  0.372542  0.049151  0.568470  0.266586  0.400800 -0.784650  0.197369  \n",
       "ของ   0.097702  0.020270  0.182967 -0.083949  0.006287 -0.707434 -0.070234  \n",
       "มี    0.907078  0.009299  0.550953  0.139337  0.031696 -0.670379 -0.008048  \n",
       "ได้  -0.078255  0.034323  0.459774 -0.748643  0.337775 -0.487408 -0.511535  \n",
       "\"\"\"\" -0.090323 -0.058895  0.151262 -0.420358  0.055971 -0.930814  0.163908  \n",
       "การ   0.045158  0.066647  0.190095 -0.304333 -0.724927 -0.995488 -0.716609  \n",
       "(     0.519889  0.130475  0.125772  0.101328 -0.382658 -1.205359  0.340139  \n",
       ")     0.516092  0.201697  0.249139  0.252957  1.138815 -0.018209  0.232265  \n",
       "\n",
       "[10 rows x 300 columns]"
      ]
     },
     "execution_count": 5,
     "metadata": {},
     "output_type": "execute_result"
    }
   ],
   "source": [
    "thai2vec.head(10)"
   ]
  },
  {
   "cell_type": "code",
   "execution_count": 6,
   "metadata": {},
   "outputs": [],
   "source": [
    "ll = len(thai2vec)\n"
   ]
  },
  {
   "cell_type": "code",
   "execution_count": 7,
   "metadata": {},
   "outputs": [
    {
     "name": "stdout",
     "output_type": "stream",
     "text": [
      "51300\n",
      " (51358, 300)\n"
     ]
    }
   ],
   "source": [
    "for vidx in range(ll):\n",
    "    if vidx % 100 == 0:\n",
    "        print('\\r' + str(vidx),end='')\n",
    "    aa = thai2vec.iloc[[vidx]]\n",
    "    ab = aa.values.tolist()\n",
    "    if vidx == 0:\n",
    "        vect = ab\n",
    "    else:\n",
    "        vect = np.vstack((vect,ab))\n",
    "\n",
    "print(\"\\n\", vect.shape)"
   ]
  },
  {
   "cell_type": "code",
   "execution_count": 8,
   "metadata": {},
   "outputs": [],
   "source": [
    "def convert2num(convData):\n",
    "    for ci in range(len(convData)):\n",
    "        if convData[ci] == \"Level 1\":\n",
    "            convData[ci] = 0\n",
    "        elif convData[ci] == \"Level 2\":\n",
    "            convData[ci] = 1\n",
    "        elif convData[ci] == \"Level 3\":\n",
    "            convData[ci] = 2\n",
    "        elif convData[ci] == \"Level 4\":\n",
    "            convData[ci] = 3\n",
    "        elif convData[ci] == \"Level 5\":\n",
    "            convData[ci] = 4\n",
    "        elif convData[ci] == \"Other\":\n",
    "            convData[ci] = 5\n",
    "    return convData"
   ]
  },
  {
   "cell_type": "code",
   "execution_count": 9,
   "metadata": {},
   "outputs": [],
   "source": [
    "def tokenWord(wordTarget):\n",
    "    wordToken = word_tokenize(wordTarget, engine='attacut')\n",
    "    return wordToken"
   ]
  },
  {
   "cell_type": "code",
   "execution_count": 10,
   "metadata": {},
   "outputs": [],
   "source": [
    "def convWord(cw):\n",
    "    cWord = cw\n",
    "    for ti in range(len(cWord)):\n",
    "        if cWord[ti] == ' ':\n",
    "            cWord[ti] = ''\n",
    "        elif cWord[ti] not in thVocab:\n",
    "            cWord[ti] = ''\n",
    "    return cWord"
   ]
  },
  {
   "cell_type": "code",
   "execution_count": 11,
   "metadata": {},
   "outputs": [],
   "source": [
    "def token2index(t2idx):\n",
    "    w2index = []\n",
    "    for wi in range(len(t2idx)):\n",
    "        if t2idx[wi] in thVocab:\n",
    "            w2index.append(thVocab.index(t2idx[wi]))\n",
    "    return np.array(w2index)"
   ]
  },
  {
   "cell_type": "code",
   "execution_count": 12,
   "metadata": {},
   "outputs": [],
   "source": [
    "def findMaxArray(fma):\n",
    "    maxlen = 0\n",
    "    for mi in range(len(fma)):\n",
    "        nA = len(fma[mi])\n",
    "        if nA > maxlen:\n",
    "            maxlen = nA\n",
    "    return maxlen"
   ]
  },
  {
   "cell_type": "code",
   "execution_count": 13,
   "metadata": {},
   "outputs": [],
   "source": [
    "def fill0in(f0i):\n",
    "    fMax = findMaxArray(f0i)\n",
    "    for fi, ax in enumerate(f0i):\n",
    "        if len(ax) < fMax:\n",
    "            f0i[fi] = np.hstack((ax , np.zeros(fMax-len(ax))))\n",
    "        f0i1 = np.array(f0i)\n",
    "    return f0i1"
   ]
  },
  {
   "cell_type": "code",
   "execution_count": 14,
   "metadata": {},
   "outputs": [],
   "source": [
    "def prepare2train(ipt):\n",
    "    pre2t = []\n",
    "    for pidx in range(len(ipt)):\n",
    "        wp1 = ipt[pidx]\n",
    "        pre2t.append(token2index(convWord(tokenWord(wp1))))\n",
    "    return pre2t"
   ]
  },
  {
   "cell_type": "code",
   "execution_count": 15,
   "metadata": {},
   "outputs": [],
   "source": [
    "tweet = df['Tweet']\n",
    "tweetArray = tweet.to_list()\n",
    "label = df['Label (Specialist)']"
   ]
  },
  {
   "cell_type": "code",
   "execution_count": 16,
   "metadata": {},
   "outputs": [],
   "source": [
    "Xtrain = prepare2train(tweetArray)\n",
    "Ytrain = convert2num(label.to_list())"
   ]
  },
  {
   "cell_type": "code",
   "execution_count": 17,
   "metadata": {},
   "outputs": [
    {
     "name": "stderr",
     "output_type": "stream",
     "text": [
      "/var/folders/y8/1g3ffxtj5bl6btf8w5y73r_00000gn/T/ipykernel_74864/4258061065.py:6: VisibleDeprecationWarning: Creating an ndarray from ragged nested sequences (which is a list-or-tuple of lists-or-tuples-or ndarrays with different lengths or shapes) is deprecated. If you meant to do this, you must specify 'dtype=object' when creating the ndarray.\n",
      "  f0i1 = np.array(f0i)\n"
     ]
    }
   ],
   "source": [
    "YTrainIdx = np.array(Ytrain)\n",
    "XTrainIdx = fill0in(Xtrain)"
   ]
  },
  {
   "cell_type": "code",
   "execution_count": 18,
   "metadata": {},
   "outputs": [
    {
     "data": {
      "text/plain": [
       "(4621, 79)"
      ]
     },
     "execution_count": 18,
     "metadata": {},
     "output_type": "execute_result"
    }
   ],
   "source": [
    "XTrainIdx.shape"
   ]
  },
  {
   "cell_type": "code",
   "execution_count": 33,
   "metadata": {},
   "outputs": [],
   "source": [
    "model = keras.Sequential()\n",
    "model.add(keras.layers.Embedding(vect.shape[0],vect.shape[1],name='embed'))\n",
    "model.add(keras.layers.Bidirectional(keras.layers.LSTM(128, return_sequences=True)))\n",
    "model.add(keras.layers.Bidirectional(keras.layers.LSTM(64)))\n",
    "model.add(Dropout(0.1))\n",
    "model.add(Dense(32, activation=('relu')))\n",
    "model.add(Dense(6, activation=('softmax')))"
   ]
  },
  {
   "cell_type": "code",
   "execution_count": 34,
   "metadata": {},
   "outputs": [
    {
     "name": "stdout",
     "output_type": "stream",
     "text": [
      "Model: \"sequential_1\"\n",
      "_________________________________________________________________\n",
      " Layer (type)                Output Shape              Param #   \n",
      "=================================================================\n",
      " embed (Embedding)           (None, None, 300)         15407400  \n",
      "                                                                 \n",
      " bidirectional_2 (Bidirectio  (None, None, 256)        439296    \n",
      " nal)                                                            \n",
      "                                                                 \n",
      " bidirectional_3 (Bidirectio  (None, 128)              164352    \n",
      " nal)                                                            \n",
      "                                                                 \n",
      " dropout_1 (Dropout)         (None, 128)               0         \n",
      "                                                                 \n",
      " dense_2 (Dense)             (None, 32)                4128      \n",
      "                                                                 \n",
      " dense_3 (Dense)             (None, 6)                 198       \n",
      "                                                                 \n",
      "=================================================================\n",
      "Total params: 16,015,374\n",
      "Trainable params: 16,015,374\n",
      "Non-trainable params: 0\n",
      "_________________________________________________________________\n"
     ]
    }
   ],
   "source": [
    "model.summary()"
   ]
  },
  {
   "cell_type": "code",
   "execution_count": 35,
   "metadata": {},
   "outputs": [],
   "source": [
    "model.compile(loss='sparse_categorical_crossentropy',optimizer='adam',metrics=['accuracy'])"
   ]
  },
  {
   "cell_type": "code",
   "execution_count": 36,
   "metadata": {},
   "outputs": [],
   "source": [
    "model.get_layer('embed').set_weights([vect])\n",
    "model.get_layer('embed').trainable = True"
   ]
  },
  {
   "cell_type": "code",
   "execution_count": null,
   "metadata": {},
   "outputs": [],
   "source": [
    "class myCallback(callbacks.Callback):\n",
    "  def on_epoch_end(self, epoch, logs={}):\n",
    "    if(logs.get('accuracy')>0.95):\n",
    "      self.model.stop_training = True\n",
    "      print(\"\\nCallback Accuracy มากกว่า 95%!\")\n",
    "callbacks = myCallback()"
   ]
  },
  {
   "cell_type": "code",
   "execution_count": 38,
   "metadata": {},
   "outputs": [
    {
     "name": "stdout",
     "output_type": "stream",
     "text": [
      "Epoch 1/20\n"
     ]
    },
    {
     "name": "stderr",
     "output_type": "stream",
     "text": [
      "2022-08-10 02:04:20.385928: I tensorflow/core/grappler/optimizers/custom_graph_optimizer_registry.cc:112] Plugin optimizer for device_type GPU is enabled.\n",
      "2022-08-10 02:04:21.038901: I tensorflow/core/grappler/optimizers/custom_graph_optimizer_registry.cc:112] Plugin optimizer for device_type GPU is enabled.\n",
      "2022-08-10 02:04:21.054741: I tensorflow/core/grappler/optimizers/custom_graph_optimizer_registry.cc:112] Plugin optimizer for device_type GPU is enabled.\n",
      "2022-08-10 02:04:21.284586: I tensorflow/core/grappler/optimizers/custom_graph_optimizer_registry.cc:112] Plugin optimizer for device_type GPU is enabled.\n",
      "2022-08-10 02:04:21.304181: I tensorflow/core/grappler/optimizers/custom_graph_optimizer_registry.cc:112] Plugin optimizer for device_type GPU is enabled.\n",
      "2022-08-10 02:04:21.567930: I tensorflow/core/grappler/optimizers/custom_graph_optimizer_registry.cc:112] Plugin optimizer for device_type GPU is enabled.\n",
      "2022-08-10 02:04:21.591916: I tensorflow/core/grappler/optimizers/custom_graph_optimizer_registry.cc:112] Plugin optimizer for device_type GPU is enabled.\n",
      "2022-08-10 02:04:21.917543: I tensorflow/core/grappler/optimizers/custom_graph_optimizer_registry.cc:112] Plugin optimizer for device_type GPU is enabled.\n",
      "2022-08-10 02:04:21.947121: I tensorflow/core/grappler/optimizers/custom_graph_optimizer_registry.cc:112] Plugin optimizer for device_type GPU is enabled.\n"
     ]
    },
    {
     "name": "stdout",
     "output_type": "stream",
     "text": [
      "37/37 [==============================] - 13s 223ms/step - loss: 1.3639 - accuracy: 0.5337\n",
      "Epoch 2/20\n",
      "37/37 [==============================] - 7s 202ms/step - loss: 1.1480 - accuracy: 0.5981\n",
      "Epoch 3/20\n",
      "37/37 [==============================] - 7s 196ms/step - loss: 1.0037 - accuracy: 0.6581\n",
      "Epoch 4/20\n",
      "37/37 [==============================] - 7s 193ms/step - loss: 0.9090 - accuracy: 0.6923\n",
      "Epoch 5/20\n",
      "37/37 [==============================] - 7s 195ms/step - loss: 0.8343 - accuracy: 0.7224\n",
      "Epoch 6/20\n",
      "37/37 [==============================] - 7s 195ms/step - loss: 0.7581 - accuracy: 0.7433\n",
      "Epoch 7/20\n",
      "37/37 [==============================] - 7s 195ms/step - loss: 0.6926 - accuracy: 0.7691\n",
      "Epoch 8/20\n",
      "37/37 [==============================] - 7s 196ms/step - loss: 0.6390 - accuracy: 0.7816\n",
      "Epoch 9/20\n",
      "37/37 [==============================] - 7s 194ms/step - loss: 0.5897 - accuracy: 0.8029\n",
      "Epoch 10/20\n",
      "37/37 [==============================] - 7s 194ms/step - loss: 0.5295 - accuracy: 0.8243\n",
      "Epoch 11/20\n",
      "37/37 [==============================] - 7s 193ms/step - loss: 0.5012 - accuracy: 0.8297\n",
      "Epoch 12/20\n",
      "37/37 [==============================] - 7s 195ms/step - loss: 0.4509 - accuracy: 0.8429\n",
      "Epoch 13/20\n",
      "37/37 [==============================] - 7s 194ms/step - loss: 0.4060 - accuracy: 0.8615\n",
      "Epoch 14/20\n",
      "37/37 [==============================] - 7s 198ms/step - loss: 0.3702 - accuracy: 0.8756\n",
      "Epoch 15/20\n",
      "37/37 [==============================] - 7s 194ms/step - loss: 0.3514 - accuracy: 0.8808\n",
      "Epoch 16/20\n",
      "37/37 [==============================] - 7s 196ms/step - loss: 0.3150 - accuracy: 0.8899\n",
      "Epoch 17/20\n",
      "37/37 [==============================] - 7s 193ms/step - loss: 0.2968 - accuracy: 0.8968\n",
      "Epoch 18/20\n",
      "37/37 [==============================] - 7s 193ms/step - loss: 0.2623 - accuracy: 0.9033\n",
      "Epoch 19/20\n",
      "37/37 [==============================] - 7s 195ms/step - loss: 0.2526 - accuracy: 0.9100\n",
      "Epoch 20/20\n",
      "37/37 [==============================] - 7s 194ms/step - loss: 0.2431 - accuracy: 0.9104\n"
     ]
    },
    {
     "data": {
      "text/plain": [
       "<keras.callbacks.History at 0x2e90ee580>"
      ]
     },
     "execution_count": 38,
     "metadata": {},
     "output_type": "execute_result"
    }
   ],
   "source": [
    "model.fit(XTrainIdx,YTrainIdx,epochs=20,batch_size=128,callbacks=[callbacks])"
   ]
  },
  {
   "cell_type": "code",
   "execution_count": 25,
   "metadata": {},
   "outputs": [],
   "source": [
    "test_df = pd.read_csv('Suicidal_K5_Test.csv').drop(columns='Unnamed: 0')\n",
    "test_label = test_df['Label (Specialist)']\n",
    "X_test = test_df['Tweet']\n",
    "\n",
    "test_array = X_test.to_list()\n",
    "\n",
    "X_test = prepare2train(test_array)\n",
    "y_test = convert2num(test_label)"
   ]
  },
  {
   "cell_type": "code",
   "execution_count": 26,
   "metadata": {},
   "outputs": [
    {
     "name": "stderr",
     "output_type": "stream",
     "text": [
      "/var/folders/y8/1g3ffxtj5bl6btf8w5y73r_00000gn/T/ipykernel_74864/4258061065.py:6: VisibleDeprecationWarning: Creating an ndarray from ragged nested sequences (which is a list-or-tuple of lists-or-tuples-or ndarrays with different lengths or shapes) is deprecated. If you meant to do this, you must specify 'dtype=object' when creating the ndarray.\n",
      "  f0i1 = np.array(f0i)\n"
     ]
    }
   ],
   "source": [
    "YTestIdx = np.array(y_test)\n",
    "XTestIdx = fill0in(X_test)"
   ]
  },
  {
   "cell_type": "code",
   "execution_count": 27,
   "metadata": {},
   "outputs": [
    {
     "name": "stderr",
     "output_type": "stream",
     "text": [
      "2022-08-10 01:57:33.700191: I tensorflow/core/grappler/optimizers/custom_graph_optimizer_registry.cc:112] Plugin optimizer for device_type GPU is enabled.\n",
      "2022-08-10 01:57:33.901174: I tensorflow/core/grappler/optimizers/custom_graph_optimizer_registry.cc:112] Plugin optimizer for device_type GPU is enabled.\n",
      "2022-08-10 01:57:33.914345: I tensorflow/core/grappler/optimizers/custom_graph_optimizer_registry.cc:112] Plugin optimizer for device_type GPU is enabled.\n",
      "2022-08-10 01:57:34.041863: I tensorflow/core/grappler/optimizers/custom_graph_optimizer_registry.cc:112] Plugin optimizer for device_type GPU is enabled.\n",
      "2022-08-10 01:57:34.052588: I tensorflow/core/grappler/optimizers/custom_graph_optimizer_registry.cc:112] Plugin optimizer for device_type GPU is enabled.\n"
     ]
    }
   ],
   "source": [
    "y_pred = np.argmax(model.predict(XTestIdx),axis=1)"
   ]
  },
  {
   "cell_type": "code",
   "execution_count": 28,
   "metadata": {},
   "outputs": [
    {
     "data": {
      "text/plain": [
       "0      4\n",
       "1      0\n",
       "2      2\n",
       "3      4\n",
       "4      0\n",
       "      ..\n",
       "509    5\n",
       "510    5\n",
       "511    5\n",
       "512    5\n",
       "513    5\n",
       "Name: Label (Specialist), Length: 514, dtype: object"
      ]
     },
     "execution_count": 28,
     "metadata": {},
     "output_type": "execute_result"
    }
   ],
   "source": [
    "y_true = test_df['Label (Specialist)']\n",
    "y_true"
   ]
  },
  {
   "cell_type": "code",
   "execution_count": 29,
   "metadata": {},
   "outputs": [],
   "source": [
    "XTestIdx = np.asarray(XTestIdx).astype(np.float32)\n",
    "YTestIdx = np.asarray(YTestIdx).astype(np.float32)"
   ]
  },
  {
   "cell_type": "code",
   "execution_count": 30,
   "metadata": {},
   "outputs": [
    {
     "name": "stderr",
     "output_type": "stream",
     "text": [
      "2022-08-10 01:57:35.459894: I tensorflow/core/grappler/optimizers/custom_graph_optimizer_registry.cc:112] Plugin optimizer for device_type GPU is enabled.\n",
      "2022-08-10 01:57:35.680203: I tensorflow/core/grappler/optimizers/custom_graph_optimizer_registry.cc:112] Plugin optimizer for device_type GPU is enabled.\n",
      "2022-08-10 01:57:35.690657: I tensorflow/core/grappler/optimizers/custom_graph_optimizer_registry.cc:112] Plugin optimizer for device_type GPU is enabled.\n",
      "2022-08-10 01:57:35.816412: I tensorflow/core/grappler/optimizers/custom_graph_optimizer_registry.cc:112] Plugin optimizer for device_type GPU is enabled.\n",
      "2022-08-10 01:57:35.827000: I tensorflow/core/grappler/optimizers/custom_graph_optimizer_registry.cc:112] Plugin optimizer for device_type GPU is enabled.\n"
     ]
    },
    {
     "name": "stdout",
     "output_type": "stream",
     "text": [
      "17/17 [==============================] - 2s 49ms/step - loss: 1.2666 - accuracy: 0.6479\n"
     ]
    }
   ],
   "source": [
    "accr = model.evaluate(XTestIdx,YTestIdx)"
   ]
  },
  {
   "cell_type": "code",
   "execution_count": 31,
   "metadata": {},
   "outputs": [],
   "source": [
    "y_true = y_true.tolist()\n",
    "y_pred = y_pred.tolist()"
   ]
  },
  {
   "cell_type": "code",
   "execution_count": 32,
   "metadata": {},
   "outputs": [
    {
     "name": "stdout",
     "output_type": "stream",
     "text": [
      "              precision    recall  f1-score   support\n",
      "\n",
      "           0       0.79      0.85      0.82       277\n",
      "           1       0.33      0.32      0.32        50\n",
      "           2       0.41      0.29      0.34        24\n",
      "           3       0.31      0.22      0.26        36\n",
      "           4       0.51      0.56      0.54        66\n",
      "           5       0.57      0.49      0.53        61\n",
      "\n",
      "    accuracy                           0.65       514\n",
      "   macro avg       0.49      0.46      0.47       514\n",
      "weighted avg       0.63      0.65      0.64       514\n",
      "\n"
     ]
    }
   ],
   "source": [
    "print(classification_report(y_true, y_pred))"
   ]
  },
  {
   "cell_type": "code",
   "execution_count": null,
   "metadata": {},
   "outputs": [],
   "source": []
  }
 ],
 "metadata": {
  "colab": {
   "collapsed_sections": [],
   "name": "thesis_nlp.ipynb",
   "provenance": []
  },
  "kernelspec": {
   "display_name": "Python 3.9.10 ('mlp')",
   "language": "python",
   "name": "python3"
  },
  "language_info": {
   "codemirror_mode": {
    "name": "ipython",
    "version": 3
   },
   "file_extension": ".py",
   "mimetype": "text/x-python",
   "name": "python",
   "nbconvert_exporter": "python",
   "pygments_lexer": "ipython3",
   "version": "3.9.10"
  },
  "vscode": {
   "interpreter": {
    "hash": "312e11345a26bb658cc76d44d3920b107a1290315a78b9f69927adb21ad3c257"
   }
  }
 },
 "nbformat": 4,
 "nbformat_minor": 1
}
